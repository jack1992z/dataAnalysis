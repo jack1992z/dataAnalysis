{
 "cells": [
  {
   "cell_type": "code",
   "execution_count": 19,
   "metadata": {},
   "outputs": [],
   "source": [
    "import pandas as pd\n",
    "import numpy as np\n",
    "import vaex as vx\n",
    "import matplotlib.pyplot as plt\n",
    "import seaborn as sns\n",
    "from statsmodels.tsa.stattools import adfuller, kpss,coint\n",
    "from statsmodels.tsa.vector_ar import vecm\n",
    "import time\n",
    "from multiprocessing import Process\n",
    "import gc\n",
    "import warnings\n",
    "warnings.filterwarnings('ignore')\n",
    "\n",
    "plt.rcParams['font.sans-serif'] =['SimHei']\n",
    "plt.rcParams['axes.unicode_minus'] = False\n",
    "pd.set_option('display.max_columns',None)\n",
    "pd.set_option('display.max_rows',None)\n",
    "pd.set_option(\"display.max_colwidth\", 9999)\n",
    "vx.settings.display.max_columns = 200\n",
    "vx.settings.display.max_rows = 100\n",
    "vx.settings.max_colwidth=60000\n",
    "pd.set_option('display.float_format',lambda x : '%.4f' % x)\n",
    "np.set_printoptions(suppress=True) #\n",
    "pd.options.display.float_format = '{:.4f}'.format\n",
    "%matplotlib inline"
   ]
  },
  {
   "cell_type": "code",
   "execution_count": 2,
   "metadata": {},
   "outputs": [],
   "source": [
    "path = '../data/'\n",
    "csv_name_a = 'a_series.csv'\n",
    "csv_name_u = 'u_series.csv'"
   ]
  },
  {
   "cell_type": "code",
   "execution_count": 3,
   "metadata": {},
   "outputs": [
    {
     "name": "stdout",
     "output_type": "stream",
     "text": [
      "       0\n",
      "0 0.6374\n",
      "       0\n",
      "0 1.3679\n"
     ]
    }
   ],
   "source": [
    "dfa = pd.read_csv(path+csv_name_a,header=None)\n",
    "dfu = pd.read_csv(path+csv_name_u,header=None)\n",
    "print(dfa.head(1))\n",
    "print(dfu.head(1))"
   ]
  },
  {
   "cell_type": "code",
   "execution_count": 4,
   "metadata": {},
   "outputs": [],
   "source": [
    "dfa.columns = ['A']\n",
    "dfu.columns = ['U']"
   ]
  },
  {
   "cell_type": "code",
   "execution_count": 8,
   "metadata": {},
   "outputs": [
    {
     "name": "stdout",
     "output_type": "stream",
     "text": [
      "(19999, 1)\n",
      "<class 'pandas.core.frame.DataFrame'>\n",
      "RangeIndex: 19999 entries, 0 to 19998\n",
      "Data columns (total 1 columns):\n",
      " #   Column  Non-Null Count  Dtype  \n",
      "---  ------  --------------  -----  \n",
      " 0   A       19999 non-null  float64\n",
      "dtypes: float64(1)\n",
      "memory usage: 156.4 KB\n",
      "None\n",
      "A    float64\n",
      "dtype: object\n",
      "A    0\n",
      "dtype: int64\n",
      "15541\n",
      "               A\n",
      "count 19999.0000\n",
      "mean      0.6607\n",
      "std       0.0109\n",
      "min       0.6275\n",
      "25%       0.6539\n",
      "50%       0.6586\n",
      "75%       0.6696\n",
      "max       0.6870\n"
     ]
    }
   ],
   "source": [
    "print(dfa.shape)\n",
    "print(dfa.info())\n",
    "print(dfa.dtypes)\n",
    "print(dfa.isnull().sum())\n",
    "print(dfa.duplicated().sum())\n",
    "print(dfa.describe())"
   ]
  },
  {
   "cell_type": "code",
   "execution_count": 9,
   "metadata": {},
   "outputs": [
    {
     "name": "stdout",
     "output_type": "stream",
     "text": [
      "(19999, 1)\n",
      "<class 'pandas.core.frame.DataFrame'>\n",
      "RangeIndex: 19999 entries, 0 to 19998\n",
      "Data columns (total 1 columns):\n",
      " #   Column  Non-Null Count  Dtype  \n",
      "---  ------  --------------  -----  \n",
      " 0   U       19999 non-null  float64\n",
      "dtypes: float64(1)\n",
      "memory usage: 156.4 KB\n",
      "None\n",
      "U    float64\n",
      "dtype: object\n",
      "U    0\n",
      "dtype: int64\n",
      "14965\n",
      "               U\n",
      "count 19999.0000\n",
      "mean      1.3482\n",
      "std       0.0133\n",
      "min       1.3180\n",
      "25%       1.3386\n",
      "50%       1.3476\n",
      "75%       1.3572\n",
      "max       1.3888\n"
     ]
    }
   ],
   "source": [
    "print(dfu.shape)\n",
    "print(dfu.info())\n",
    "print(dfu.dtypes)\n",
    "print(dfu.isnull().sum())\n",
    "print(dfu.duplicated().sum())\n",
    "print(dfu.describe())"
   ]
  },
  {
   "cell_type": "code",
   "execution_count": 10,
   "metadata": {},
   "outputs": [
    {
     "name": "stdout",
     "output_type": "stream",
     "text": [
      "(19999, 2)\n"
     ]
    },
    {
     "data": {
      "text/html": [
       "<div>\n",
       "<style scoped>\n",
       "    .dataframe tbody tr th:only-of-type {\n",
       "        vertical-align: middle;\n",
       "    }\n",
       "\n",
       "    .dataframe tbody tr th {\n",
       "        vertical-align: top;\n",
       "    }\n",
       "\n",
       "    .dataframe thead th {\n",
       "        text-align: right;\n",
       "    }\n",
       "</style>\n",
       "<table border=\"1\" class=\"dataframe\">\n",
       "  <thead>\n",
       "    <tr style=\"text-align: right;\">\n",
       "      <th></th>\n",
       "      <th>A</th>\n",
       "      <th>U</th>\n",
       "    </tr>\n",
       "  </thead>\n",
       "  <tbody>\n",
       "    <tr>\n",
       "      <th>0</th>\n",
       "      <td>0.6374</td>\n",
       "      <td>1.3679</td>\n",
       "    </tr>\n",
       "    <tr>\n",
       "      <th>1</th>\n",
       "      <td>0.6378</td>\n",
       "      <td>1.3682</td>\n",
       "    </tr>\n",
       "    <tr>\n",
       "      <th>2</th>\n",
       "      <td>0.6376</td>\n",
       "      <td>1.3684</td>\n",
       "    </tr>\n",
       "    <tr>\n",
       "      <th>3</th>\n",
       "      <td>0.6378</td>\n",
       "      <td>1.3683</td>\n",
       "    </tr>\n",
       "    <tr>\n",
       "      <th>4</th>\n",
       "      <td>0.6382</td>\n",
       "      <td>1.3680</td>\n",
       "    </tr>\n",
       "  </tbody>\n",
       "</table>\n",
       "</div>"
      ],
      "text/plain": [
       "       A      U\n",
       "0 0.6374 1.3679\n",
       "1 0.6378 1.3682\n",
       "2 0.6376 1.3684\n",
       "3 0.6378 1.3683\n",
       "4 0.6382 1.3680"
      ]
     },
     "execution_count": 10,
     "metadata": {},
     "output_type": "execute_result"
    }
   ],
   "source": [
    "\n",
    "df = pd.concat([dfa['A'],dfu['U']],axis=1)\n",
    "print(df.shape)\n",
    "df.head()"
   ]
  },
  {
   "cell_type": "code",
   "execution_count": 12,
   "metadata": {},
   "outputs": [
    {
     "name": "stdout",
     "output_type": "stream",
     "text": [
      "ADF Test - Stock A: p-value = 0.18544305479437267\n",
      "ADF Test - Stock B: p-value = 0.25592247220325454\n",
      "KPSS Test - Stock A: p-value = 0.01\n",
      "KPSS Test - Stock B: p-value = 0.01\n"
     ]
    }
   ],
   "source": [
    "result_A_adf = adfuller(df['A'])\n",
    "result_U_adf = adfuller(df['U'])\n",
    "result_A_kpss = kpss(df['A'])\n",
    "result_U_kpss = kpss(df['U'])\n",
    "# p-value  <  0.05 \n",
    "print('ADF Test - Stock A: p-value =', result_A_adf[1])\n",
    "print('ADF Test - Stock B: p-value =', result_U_adf[1])\n",
    "print('KPSS Test - Stock A: p-value =', result_A_kpss[1])\n",
    "print('KPSS Test - Stock B: p-value =', result_U_kpss[1])"
   ]
  },
  {
   "cell_type": "code",
   "execution_count": 15,
   "metadata": {},
   "outputs": [
    {
     "name": "stdout",
     "output_type": "stream",
     "text": [
      "ADF Test (Diff) - Stock A: p-value = 0.0\n",
      "ADF Test (Diff) - Stock U: p-value = 0.0\n",
      "KPSS Test (Diff) - Stock A: p-value = 0.1\n",
      "KPSS Test (Diff) - Stock U: p-value = 0.1\n"
     ]
    }
   ],
   "source": [
    "df_diff = df.diff().dropna() # delet first line \n",
    "result_diff_A_adf = adfuller(df_diff['A'])\n",
    "result_diff_U_adf = adfuller(df_diff['U'])\n",
    "result_diff_A_kpss = kpss(df_diff['A'])\n",
    "result_diff_U_kpss = kpss(df_diff['U'])\n",
    "\n",
    "# p-value < 0.05\n",
    "print('ADF Test (Diff) - Stock A: p-value =', result_diff_A_adf[1])\n",
    "print('ADF Test (Diff) - Stock U: p-value =', result_diff_U_adf[1])\n",
    "print('KPSS Test (Diff) - Stock A: p-value =', result_diff_A_kpss[1])\n",
    "print('KPSS Test (Diff) - Stock U: p-value =', result_diff_U_kpss[1])"
   ]
  },
  {
   "cell_type": "code",
   "execution_count": 17,
   "metadata": {},
   "outputs": [
    {
     "name": "stdout",
     "output_type": "stream",
     "text": [
      "Cointegration Test - p-value = 0.0\n"
     ]
    }
   ],
   "source": [
    "# coint\n",
    "result_coint = coint(df_diff['A'], df_diff['U'])\n",
    "print('Cointegration Test - p-value =', result_coint[1])"
   ]
  },
  {
   "cell_type": "code",
   "execution_count": 18,
   "metadata": {},
   "outputs": [
    {
     "name": "stdout",
     "output_type": "stream",
     "text": [
      "-0.6949698212295361\n",
      "-0.7726499707403791\n",
      "-0.5295993984245311\n"
     ]
    }
   ],
   "source": [
    "'''\n",
    "corr\n",
    "df['A'].corr(df['U'])\n",
    "'''\n",
    "r_s = df['A'].corr(df['U'],method='spearman')\n",
    "r_p = df['A'].corr(df['U'],method='pearson')\n",
    "r_k = df['A'].corr(df['U'],method='kendall')\n",
    "print(r_s)\n",
    "print(r_p)\n",
    "print(r_k)"
   ]
  },
  {
   "cell_type": "code",
   "execution_count": 25,
   "metadata": {},
   "outputs": [
    {
     "name": "stdout",
     "output_type": "stream",
     "text": [
      "-0.00011229174872951324\n"
     ]
    }
   ],
   "source": [
    "'''\n",
    "Covariance\n",
    "Cov(X,Y) = E[(X - E[X])(Y - E[Y])]\n",
    "         = E[XY] - 2E[Y]E[X] + E[X]E[Y]\n",
    "         =E[XY] - E[X]E[Y]\n",
    "'''\n",
    "print(df['A'].cov(df['U']))"
   ]
  },
  {
   "cell_type": "code",
   "execution_count": 20,
   "metadata": {},
   "outputs": [
    {
     "name": "stdout",
     "output_type": "stream",
     "text": [
      "Det. terms outside the coint. relation & lagged endog. parameters for equation y1\n",
      "==============================================================================\n",
      "                 coef    std err          z      P>|z|      [0.025      0.975]\n",
      "------------------------------------------------------------------------------\n",
      "const         -0.0003      0.001     -0.520      0.603      -0.001       0.001\n",
      "L1.y1          0.0074      0.007      0.996      0.319      -0.007       0.022\n",
      "L1.y2         -0.0112      0.006     -1.805      0.071      -0.023       0.001\n",
      "Det. terms outside the coint. relation & lagged endog. parameters for equation y2\n",
      "==============================================================================\n",
      "                 coef    std err          z      P>|z|      [0.025      0.975]\n",
      "------------------------------------------------------------------------------\n",
      "const          0.0028      0.001      4.407      0.000       0.002       0.004\n",
      "L1.y1         -0.0355      0.009     -3.980      0.000      -0.053      -0.018\n",
      "L1.y2         -0.0238      0.007     -3.210      0.001      -0.038      -0.009\n",
      "                 Loading coefficients (alpha) for equation y1                 \n",
      "==============================================================================\n",
      "                 coef    std err          z      P>|z|      [0.025      0.975]\n",
      "------------------------------------------------------------------------------\n",
      "ec1           -0.0002      0.000     -0.698      0.485      -0.001       0.000\n",
      "ec2            0.0003      0.000      1.202      0.230      -0.000       0.001\n",
      "                 Loading coefficients (alpha) for equation y2                 \n",
      "==============================================================================\n",
      "                 coef    std err          z      P>|z|      [0.025      0.975]\n",
      "------------------------------------------------------------------------------\n",
      "ec1           -0.0015      0.000     -3.854      0.000      -0.002      -0.001\n",
      "ec2           -0.0014      0.000     -4.354      0.000      -0.002      -0.001\n",
      "          Cointegration relations for loading-coefficients-column 1           \n",
      "==============================================================================\n",
      "                 coef    std err          z      P>|z|      [0.025      0.975]\n",
      "------------------------------------------------------------------------------\n",
      "beta.1         1.0000          0          0      0.000       1.000       1.000\n",
      "beta.2       1.11e-16          0          0      0.000    1.11e-16    1.11e-16\n",
      "          Cointegration relations for loading-coefficients-column 2           \n",
      "==============================================================================\n",
      "                 coef    std err          z      P>|z|      [0.025      0.975]\n",
      "------------------------------------------------------------------------------\n",
      "beta.1              0          0          0      0.000           0           0\n",
      "beta.2         1.0000          0          0      0.000       1.000       1.000\n",
      "==============================================================================\n"
     ]
    }
   ],
   "source": [
    "# cointegration\n",
    "model = vecm.VECM(df[:19999].values, k_ar_diff = 1, coint_rank = 2, deterministic='co')\n",
    "res = model.fit()\n",
    "print(res.summary())"
   ]
  },
  {
   "cell_type": "code",
   "execution_count": 21,
   "metadata": {},
   "outputs": [
    {
     "name": "stdout",
     "output_type": "stream",
     "text": [
      "Det. terms outside the coint. relation & lagged endog. parameters for equation y1\n",
      "==============================================================================\n",
      "                 coef    std err          z      P>|z|      [0.025      0.975]\n",
      "------------------------------------------------------------------------------\n",
      "L1.y1          0.0074      0.007      0.996      0.319      -0.007       0.022\n",
      "L1.y2         -0.0112      0.006     -1.805      0.071      -0.023       0.001\n",
      "Det. terms outside the coint. relation & lagged endog. parameters for equation y2\n",
      "==============================================================================\n",
      "                 coef    std err          z      P>|z|      [0.025      0.975]\n",
      "------------------------------------------------------------------------------\n",
      "L1.y1         -0.0355      0.009     -3.980      0.000      -0.053      -0.018\n",
      "L1.y2         -0.0238      0.007     -3.210      0.001      -0.038      -0.009\n",
      "                 Loading coefficients (alpha) for equation y1                 \n",
      "==============================================================================\n",
      "                 coef    std err          z      P>|z|      [0.025      0.975]\n",
      "------------------------------------------------------------------------------\n",
      "ec1           -0.0002      0.000     -0.698      0.485      -0.001       0.000\n",
      "ec2            0.0003      0.000      1.206      0.228      -0.000       0.001\n",
      "                 Loading coefficients (alpha) for equation y2                 \n",
      "==============================================================================\n",
      "                 coef    std err          z      P>|z|      [0.025      0.975]\n",
      "------------------------------------------------------------------------------\n",
      "ec1           -0.0015      0.000     -3.854      0.000      -0.002      -0.001\n",
      "ec2           -0.0014      0.000     -4.371      0.000      -0.002      -0.001\n",
      "          Cointegration relations for loading-coefficients-column 1           \n",
      "==============================================================================\n",
      "                 coef    std err          z      P>|z|      [0.025      0.975]\n",
      "------------------------------------------------------------------------------\n",
      "beta.1         1.0000          0          0      0.000       1.000       1.000\n",
      "beta.2      5.551e-17          0          0      0.000    5.55e-17    5.55e-17\n",
      "const         -0.6620      0.004   -176.428      0.000      -0.669      -0.655\n",
      "          Cointegration relations for loading-coefficients-column 2           \n",
      "==============================================================================\n",
      "                 coef    std err          z      P>|z|      [0.025      0.975]\n",
      "------------------------------------------------------------------------------\n",
      "beta.1              0          0          0      0.000           0           0\n",
      "beta.2         1.0000          0          0      0.000       1.000       1.000\n",
      "const         -1.3462      0.005   -297.306      0.000      -1.355      -1.337\n",
      "==============================================================================\n"
     ]
    }
   ],
   "source": [
    "model = vecm.VECM(df[:19999].values, k_ar_diff = 1, coint_rank = 2, deterministic='ci')\n",
    "res = model.fit()\n",
    "print(res.summary())"
   ]
  }
 ],
 "metadata": {
  "kernelspec": {
   "display_name": "py39",
   "language": "python",
   "name": "python3"
  },
  "language_info": {
   "codemirror_mode": {
    "name": "ipython",
    "version": 3
   },
   "file_extension": ".py",
   "mimetype": "text/x-python",
   "name": "python",
   "nbconvert_exporter": "python",
   "pygments_lexer": "ipython3",
   "version": "3.9.19"
  }
 },
 "nbformat": 4,
 "nbformat_minor": 2
}
