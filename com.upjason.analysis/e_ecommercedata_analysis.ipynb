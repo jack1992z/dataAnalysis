{
 "cells": [
  {
   "cell_type": "code",
   "execution_count": 59,
   "metadata": {},
   "outputs": [],
   "source": [
    "import numpy as np\n",
    "import pandas as pd\n",
    "import matplotlib.pyplot as plt\n",
    "from datetime import datetime\n",
    "import warnings\n",
    "\n",
    "plt.rcParams['font.sans-serif'] = ['SimHei']\n",
    "plt.rcParams['axes.unicode_minus'] = False\n",
    "pd.set_option('display.max_columns',None)\n",
    "pd.set_option('display.max_rows',None)\n",
    "pd.set_option(\"display.max_colwidth\", None)\n",
    "pd.set_option('display.float_format',lambda x : '%.4f' % x)\n",
    "pd.options.display.float_format = '{:.4f}'.format\n",
    "np.set_printoptions(suppress=True) #\n",
    "warnings.filterwarnings('ignore')\n",
    "%matplotlib inline"
   ]
  },
  {
   "cell_type": "code",
   "execution_count": 38,
   "metadata": {},
   "outputs": [],
   "source": [
    "path ='../data/'\n",
    "file_name = 'e_commerce.xlsx'"
   ]
  },
  {
   "cell_type": "code",
   "execution_count": 52,
   "metadata": {},
   "outputs": [
    {
     "name": "stdout",
     "output_type": "stream",
     "text": [
      "CPU times: user 12.4 s, sys: 23.7 ms, total: 12.4 s\n",
      "Wall time: 12.4 s\n"
     ]
    },
    {
     "data": {
      "text/html": [
       "<div>\n",
       "<style scoped>\n",
       "    .dataframe tbody tr th:only-of-type {\n",
       "        vertical-align: middle;\n",
       "    }\n",
       "\n",
       "    .dataframe tbody tr th {\n",
       "        vertical-align: top;\n",
       "    }\n",
       "\n",
       "    .dataframe thead th {\n",
       "        text-align: right;\n",
       "    }\n",
       "</style>\n",
       "<table border=\"1\" class=\"dataframe\">\n",
       "  <thead>\n",
       "    <tr style=\"text-align: right;\">\n",
       "      <th></th>\n",
       "      <th>orderID</th>\n",
       "      <th>userID</th>\n",
       "      <th>goodsID</th>\n",
       "      <th>orderAmount</th>\n",
       "      <th>payment</th>\n",
       "      <th>chanelID</th>\n",
       "      <th>platfromType</th>\n",
       "      <th>orderTime</th>\n",
       "      <th>payTime</th>\n",
       "      <th>chargeback</th>\n",
       "    </tr>\n",
       "    <tr>\n",
       "      <th>id</th>\n",
       "      <th></th>\n",
       "      <th></th>\n",
       "      <th></th>\n",
       "      <th></th>\n",
       "      <th></th>\n",
       "      <th></th>\n",
       "      <th></th>\n",
       "      <th></th>\n",
       "      <th></th>\n",
       "      <th></th>\n",
       "    </tr>\n",
       "  </thead>\n",
       "  <tbody>\n",
       "    <tr>\n",
       "      <th>1</th>\n",
       "      <td>sys-2018-254118088</td>\n",
       "      <td>user-157213</td>\n",
       "      <td>PR000064</td>\n",
       "      <td>272.5100</td>\n",
       "      <td>272.5100</td>\n",
       "      <td>渠道-0396</td>\n",
       "      <td>APP</td>\n",
       "      <td>2018-02-14 12:20:36</td>\n",
       "      <td>2019-02-28 13:38:41</td>\n",
       "      <td>否</td>\n",
       "    </tr>\n",
       "    <tr>\n",
       "      <th>2</th>\n",
       "      <td>sys-2018-263312190</td>\n",
       "      <td>user-191121</td>\n",
       "      <td>PR000583</td>\n",
       "      <td>337.9300</td>\n",
       "      <td>337.9300</td>\n",
       "      <td>渠道-0765</td>\n",
       "      <td>Wech atMP</td>\n",
       "      <td>2018-08-14 09:40:34</td>\n",
       "      <td>2019-01-01 14:47:14</td>\n",
       "      <td>是</td>\n",
       "    </tr>\n",
       "    <tr>\n",
       "      <th>3</th>\n",
       "      <td>sys-2018-188208169</td>\n",
       "      <td>user-211918</td>\n",
       "      <td>PR000082</td>\n",
       "      <td>905.6800</td>\n",
       "      <td>891.2300</td>\n",
       "      <td>渠道-0530</td>\n",
       "      <td>We c hatMP</td>\n",
       "      <td>2018-11-02 20:17:25</td>\n",
       "      <td>2019-01-19 20:06:35</td>\n",
       "      <td>否</td>\n",
       "    </tr>\n",
       "    <tr>\n",
       "      <th>4</th>\n",
       "      <td>sys-2018-203314910</td>\n",
       "      <td>user-201322</td>\n",
       "      <td>PR000302</td>\n",
       "      <td>786.2700</td>\n",
       "      <td>688.8800</td>\n",
       "      <td>渠道-0530</td>\n",
       "      <td>WEB</td>\n",
       "      <td>2018-11-19 10:36:39</td>\n",
       "      <td>2019-08-07 12:24:35</td>\n",
       "      <td>否</td>\n",
       "    </tr>\n",
       "    <tr>\n",
       "      <th>5</th>\n",
       "      <td>sys-2018-283989279</td>\n",
       "      <td>user-120872</td>\n",
       "      <td>PR000290</td>\n",
       "      <td>550.7700</td>\n",
       "      <td>542.5100</td>\n",
       "      <td>渠道-9527</td>\n",
       "      <td>APP</td>\n",
       "      <td>2018-12-26 11:19:16</td>\n",
       "      <td>2019-10-01 07:42:43</td>\n",
       "      <td>否</td>\n",
       "    </tr>\n",
       "  </tbody>\n",
       "</table>\n",
       "</div>"
      ],
      "text/plain": [
       "               orderID       userID   goodsID  orderAmount  payment chanelID  \\\n",
       "id                                                                             \n",
       "1   sys-2018-254118088  user-157213  PR000064     272.5100 272.5100  渠道-0396   \n",
       "2   sys-2018-263312190  user-191121  PR000583     337.9300 337.9300  渠道-0765   \n",
       "3   sys-2018-188208169  user-211918  PR000082     905.6800 891.2300  渠道-0530   \n",
       "4   sys-2018-203314910  user-201322  PR000302     786.2700 688.8800  渠道-0530   \n",
       "5   sys-2018-283989279  user-120872  PR000290     550.7700 542.5100  渠道-9527   \n",
       "\n",
       "   platfromType           orderTime             payTime chargeback  \n",
       "id                                                                  \n",
       "1          APP  2018-02-14 12:20:36 2019-02-28 13:38:41          否  \n",
       "2     Wech atMP 2018-08-14 09:40:34 2019-01-01 14:47:14          是  \n",
       "3    We c hatMP 2018-11-02 20:17:25 2019-01-19 20:06:35          否  \n",
       "4          WEB  2018-11-19 10:36:39 2019-08-07 12:24:35          否  \n",
       "5          APP  2018-12-26 11:19:16 2019-10-01 07:42:43          否  "
      ]
     },
     "execution_count": 52,
     "metadata": {},
     "output_type": "execute_result"
    }
   ],
   "source": [
    "%%time\n",
    "order_df = pd.read_excel(path+file_name,index_col='id')\n",
    "order_df.head()"
   ]
  },
  {
   "cell_type": "code",
   "execution_count": 53,
   "metadata": {},
   "outputs": [
    {
     "name": "stdout",
     "output_type": "stream",
     "text": [
      "<class 'pandas.core.frame.DataFrame'>\n",
      "Index: 104557 entries, 1 to 104557\n",
      "Data columns (total 10 columns):\n",
      " #   Column        Non-Null Count   Dtype         \n",
      "---  ------        --------------   -----         \n",
      " 0   orderID       104557 non-null  object        \n",
      " 1   userID        104557 non-null  object        \n",
      " 2   goodsID       104557 non-null  object        \n",
      " 3   orderAmount   104557 non-null  float64       \n",
      " 4   payment       104557 non-null  float64       \n",
      " 5   chanelID      104549 non-null  object        \n",
      " 6   platfromType  104557 non-null  object        \n",
      " 7   orderTime     104557 non-null  datetime64[ns]\n",
      " 8   payTime       104557 non-null  datetime64[ns]\n",
      " 9   chargeback    104557 non-null  object        \n",
      "dtypes: datetime64[ns](2), float64(2), object(6)\n",
      "memory usage: 8.8+ MB\n"
     ]
    }
   ],
   "source": [
    "order_df.info()"
   ]
  },
  {
   "cell_type": "code",
   "execution_count": 68,
   "metadata": {},
   "outputs": [],
   "source": [
    "order_df.drop(columns='goodsID',inplace=True)\n",
    "order_df.drop_duplicates('orderID',inplace=True)"
   ]
  },
  {
   "cell_type": "code",
   "execution_count": 54,
   "metadata": {},
   "outputs": [
    {
     "data": {
      "text/plain": [
       "(104557, 10)"
      ]
     },
     "execution_count": 54,
     "metadata": {},
     "output_type": "execute_result"
    }
   ],
   "source": [
    "order_df.shape"
   ]
  },
  {
   "cell_type": "code",
   "execution_count": 55,
   "metadata": {},
   "outputs": [
    {
     "data": {
      "text/html": [
       "<div>\n",
       "<style scoped>\n",
       "    .dataframe tbody tr th:only-of-type {\n",
       "        vertical-align: middle;\n",
       "    }\n",
       "\n",
       "    .dataframe tbody tr th {\n",
       "        vertical-align: top;\n",
       "    }\n",
       "\n",
       "    .dataframe thead th {\n",
       "        text-align: right;\n",
       "    }\n",
       "</style>\n",
       "<table border=\"1\" class=\"dataframe\">\n",
       "  <thead>\n",
       "    <tr style=\"text-align: right;\">\n",
       "      <th></th>\n",
       "      <th>orderID</th>\n",
       "      <th>userID</th>\n",
       "      <th>goodsID</th>\n",
       "      <th>orderAmount</th>\n",
       "      <th>payment</th>\n",
       "      <th>chanelID</th>\n",
       "      <th>platfromType</th>\n",
       "      <th>orderTime</th>\n",
       "      <th>payTime</th>\n",
       "      <th>chargeback</th>\n",
       "    </tr>\n",
       "  </thead>\n",
       "  <tbody>\n",
       "    <tr>\n",
       "      <th>count</th>\n",
       "      <td>104557</td>\n",
       "      <td>104557</td>\n",
       "      <td>104557</td>\n",
       "      <td>104557.0000</td>\n",
       "      <td>104557.0000</td>\n",
       "      <td>104549</td>\n",
       "      <td>104557</td>\n",
       "      <td>104557</td>\n",
       "      <td>104557</td>\n",
       "      <td>104557</td>\n",
       "    </tr>\n",
       "    <tr>\n",
       "      <th>unique</th>\n",
       "      <td>104530</td>\n",
       "      <td>79357</td>\n",
       "      <td>1001</td>\n",
       "      <td>NaN</td>\n",
       "      <td>NaN</td>\n",
       "      <td>15</td>\n",
       "      <td>11</td>\n",
       "      <td>NaN</td>\n",
       "      <td>NaN</td>\n",
       "      <td>2</td>\n",
       "    </tr>\n",
       "    <tr>\n",
       "      <th>top</th>\n",
       "      <td>sys-2019-294664655</td>\n",
       "      <td>user-143799</td>\n",
       "      <td>PR000895</td>\n",
       "      <td>NaN</td>\n",
       "      <td>NaN</td>\n",
       "      <td>渠道-0896</td>\n",
       "      <td>APP</td>\n",
       "      <td>NaN</td>\n",
       "      <td>NaN</td>\n",
       "      <td>否</td>\n",
       "    </tr>\n",
       "    <tr>\n",
       "      <th>freq</th>\n",
       "      <td>2</td>\n",
       "      <td>7</td>\n",
       "      <td>354</td>\n",
       "      <td>NaN</td>\n",
       "      <td>NaN</td>\n",
       "      <td>16851</td>\n",
       "      <td>45538</td>\n",
       "      <td>NaN</td>\n",
       "      <td>NaN</td>\n",
       "      <td>90776</td>\n",
       "    </tr>\n",
       "    <tr>\n",
       "      <th>mean</th>\n",
       "      <td>NaN</td>\n",
       "      <td>NaN</td>\n",
       "      <td>NaN</td>\n",
       "      <td>1049.6815</td>\n",
       "      <td>1167.4942</td>\n",
       "      <td>NaN</td>\n",
       "      <td>NaN</td>\n",
       "      <td>2019-07-22 04:53:49.941142272</td>\n",
       "      <td>2019-07-22 06:33:21.719855872</td>\n",
       "      <td>NaN</td>\n",
       "    </tr>\n",
       "    <tr>\n",
       "      <th>min</th>\n",
       "      <td>NaN</td>\n",
       "      <td>NaN</td>\n",
       "      <td>NaN</td>\n",
       "      <td>6.1000</td>\n",
       "      <td>-12.4700</td>\n",
       "      <td>NaN</td>\n",
       "      <td>NaN</td>\n",
       "      <td>2018-02-14 12:20:36</td>\n",
       "      <td>2019-01-01 00:13:37</td>\n",
       "      <td>NaN</td>\n",
       "    </tr>\n",
       "    <tr>\n",
       "      <th>25%</th>\n",
       "      <td>NaN</td>\n",
       "      <td>NaN</td>\n",
       "      <td>NaN</td>\n",
       "      <td>432.0400</td>\n",
       "      <td>383.6600</td>\n",
       "      <td>NaN</td>\n",
       "      <td>NaN</td>\n",
       "      <td>2019-05-07 19:44:51</td>\n",
       "      <td>2019-05-07 20:10:35</td>\n",
       "      <td>NaN</td>\n",
       "    </tr>\n",
       "    <tr>\n",
       "      <th>50%</th>\n",
       "      <td>NaN</td>\n",
       "      <td>NaN</td>\n",
       "      <td>NaN</td>\n",
       "      <td>679.3200</td>\n",
       "      <td>641.2300</td>\n",
       "      <td>NaN</td>\n",
       "      <td>NaN</td>\n",
       "      <td>2019-07-26 15:39:04</td>\n",
       "      <td>2019-07-26 16:14:04</td>\n",
       "      <td>NaN</td>\n",
       "    </tr>\n",
       "    <tr>\n",
       "      <th>75%</th>\n",
       "      <td>NaN</td>\n",
       "      <td>NaN</td>\n",
       "      <td>NaN</td>\n",
       "      <td>1248.2800</td>\n",
       "      <td>1252.6300</td>\n",
       "      <td>NaN</td>\n",
       "      <td>NaN</td>\n",
       "      <td>2019-10-18 15:27:49</td>\n",
       "      <td>2019-10-18 16:26:03</td>\n",
       "      <td>NaN</td>\n",
       "    </tr>\n",
       "    <tr>\n",
       "      <th>max</th>\n",
       "      <td>NaN</td>\n",
       "      <td>NaN</td>\n",
       "      <td>NaN</td>\n",
       "      <td>28465.2500</td>\n",
       "      <td>83270.0538</td>\n",
       "      <td>NaN</td>\n",
       "      <td>NaN</td>\n",
       "      <td>2020-01-01 23:48:26</td>\n",
       "      <td>2020-05-28 19:22:30</td>\n",
       "      <td>NaN</td>\n",
       "    </tr>\n",
       "    <tr>\n",
       "      <th>std</th>\n",
       "      <td>NaN</td>\n",
       "      <td>NaN</td>\n",
       "      <td>NaN</td>\n",
       "      <td>1054.4100</td>\n",
       "      <td>2174.0249</td>\n",
       "      <td>NaN</td>\n",
       "      <td>NaN</td>\n",
       "      <td>NaN</td>\n",
       "      <td>NaN</td>\n",
       "      <td>NaN</td>\n",
       "    </tr>\n",
       "  </tbody>\n",
       "</table>\n",
       "</div>"
      ],
      "text/plain": [
       "                   orderID       userID   goodsID  orderAmount     payment  \\\n",
       "count               104557       104557    104557  104557.0000 104557.0000   \n",
       "unique              104530        79357      1001          NaN         NaN   \n",
       "top     sys-2019-294664655  user-143799  PR000895          NaN         NaN   \n",
       "freq                     2            7       354          NaN         NaN   \n",
       "mean                   NaN          NaN       NaN    1049.6815   1167.4942   \n",
       "min                    NaN          NaN       NaN       6.1000    -12.4700   \n",
       "25%                    NaN          NaN       NaN     432.0400    383.6600   \n",
       "50%                    NaN          NaN       NaN     679.3200    641.2300   \n",
       "75%                    NaN          NaN       NaN    1248.2800   1252.6300   \n",
       "max                    NaN          NaN       NaN   28465.2500  83270.0538   \n",
       "std                    NaN          NaN       NaN    1054.4100   2174.0249   \n",
       "\n",
       "       chanelID platfromType                      orderTime  \\\n",
       "count    104549       104557                         104557   \n",
       "unique       15           11                            NaN   \n",
       "top     渠道-0896         APP                             NaN   \n",
       "freq      16851        45538                            NaN   \n",
       "mean        NaN          NaN  2019-07-22 04:53:49.941142272   \n",
       "min         NaN          NaN            2018-02-14 12:20:36   \n",
       "25%         NaN          NaN            2019-05-07 19:44:51   \n",
       "50%         NaN          NaN            2019-07-26 15:39:04   \n",
       "75%         NaN          NaN            2019-10-18 15:27:49   \n",
       "max         NaN          NaN            2020-01-01 23:48:26   \n",
       "std         NaN          NaN                            NaN   \n",
       "\n",
       "                              payTime chargeback  \n",
       "count                          104557     104557  \n",
       "unique                            NaN          2  \n",
       "top                               NaN          否  \n",
       "freq                              NaN      90776  \n",
       "mean    2019-07-22 06:33:21.719855872        NaN  \n",
       "min               2019-01-01 00:13:37        NaN  \n",
       "25%               2019-05-07 20:10:35        NaN  \n",
       "50%               2019-07-26 16:14:04        NaN  \n",
       "75%               2019-10-18 16:26:03        NaN  \n",
       "max               2020-05-28 19:22:30        NaN  \n",
       "std                               NaN        NaN  "
      ]
     },
     "execution_count": 55,
     "metadata": {},
     "output_type": "execute_result"
    }
   ],
   "source": [
    "order_df.describe(include='all')"
   ]
  },
  {
   "cell_type": "code",
   "execution_count": 56,
   "metadata": {},
   "outputs": [
    {
     "data": {
      "text/plain": [
       "orderID         0\n",
       "userID          0\n",
       "goodsID         0\n",
       "orderAmount     0\n",
       "payment         0\n",
       "chanelID        8\n",
       "platfromType    0\n",
       "orderTime       0\n",
       "payTime         0\n",
       "chargeback      0\n",
       "dtype: int64"
      ]
     },
     "execution_count": 56,
     "metadata": {},
     "output_type": "execute_result"
    }
   ],
   "source": [
    "order_df.isnull().sum()"
   ]
  },
  {
   "cell_type": "code",
   "execution_count": 57,
   "metadata": {},
   "outputs": [
    {
     "data": {
      "text/plain": [
       "orderID                 object\n",
       "userID                  object\n",
       "goodsID                 object\n",
       "orderAmount            float64\n",
       "payment                float64\n",
       "chanelID                object\n",
       "platfromType            object\n",
       "orderTime       datetime64[ns]\n",
       "payTime         datetime64[ns]\n",
       "chargeback              object\n",
       "dtype: object"
      ]
     },
     "execution_count": 57,
     "metadata": {},
     "output_type": "execute_result"
    }
   ],
   "source": [
    "order_df.dtypes"
   ]
  },
  {
   "cell_type": "code",
   "execution_count": 62,
   "metadata": {},
   "outputs": [],
   "source": [
    "start = datetime(2019,1,1)\n",
    "end = datetime(2019,12,31,23,59,59)"
   ]
  },
  {
   "cell_type": "code",
   "execution_count": 63,
   "metadata": {},
   "outputs": [],
   "source": [
    "order_df.drop(order_df[order_df.orderTime < start].index, inplace=True)\n",
    "order_df.drop(order_df[order_df.orderTime > end].index, inplace=True)"
   ]
  },
  {
   "cell_type": "code",
   "execution_count": 70,
   "metadata": {},
   "outputs": [
    {
     "data": {
      "text/html": [
       "<div>\n",
       "<style scoped>\n",
       "    .dataframe tbody tr th:only-of-type {\n",
       "        vertical-align: middle;\n",
       "    }\n",
       "\n",
       "    .dataframe tbody tr th {\n",
       "        vertical-align: top;\n",
       "    }\n",
       "\n",
       "    .dataframe thead th {\n",
       "        text-align: right;\n",
       "    }\n",
       "</style>\n",
       "<table border=\"1\" class=\"dataframe\">\n",
       "  <thead>\n",
       "    <tr style=\"text-align: right;\">\n",
       "      <th></th>\n",
       "      <th>orderID</th>\n",
       "      <th>userID</th>\n",
       "      <th>orderAmount</th>\n",
       "      <th>payment</th>\n",
       "      <th>chanelID</th>\n",
       "      <th>platfromType</th>\n",
       "      <th>orderTime</th>\n",
       "      <th>payTime</th>\n",
       "      <th>chargeback</th>\n",
       "    </tr>\n",
       "    <tr>\n",
       "      <th>id</th>\n",
       "      <th></th>\n",
       "      <th></th>\n",
       "      <th></th>\n",
       "      <th></th>\n",
       "      <th></th>\n",
       "      <th></th>\n",
       "      <th></th>\n",
       "      <th></th>\n",
       "      <th></th>\n",
       "    </tr>\n",
       "  </thead>\n",
       "  <tbody>\n",
       "    <tr>\n",
       "      <th>6</th>\n",
       "      <td>sys-2019-279103297</td>\n",
       "      <td>user-146548</td>\n",
       "      <td>425.2000</td>\n",
       "      <td>425.2000</td>\n",
       "      <td>渠道-0765</td>\n",
       "      <td>Wech atMP</td>\n",
       "      <td>2019-01-01 00:12:23</td>\n",
       "      <td>2019-01-01 00:13:37</td>\n",
       "      <td>否</td>\n",
       "    </tr>\n",
       "    <tr>\n",
       "      <th>7</th>\n",
       "      <td>sys-2019-316686066</td>\n",
       "      <td>user-104210</td>\n",
       "      <td>1764.3700</td>\n",
       "      <td>1707.0400</td>\n",
       "      <td>渠道-0396</td>\n",
       "      <td>We c hatMP</td>\n",
       "      <td>2019-01-01 00:23:06</td>\n",
       "      <td>2019-01-01 00:23:32</td>\n",
       "      <td>否</td>\n",
       "    </tr>\n",
       "    <tr>\n",
       "      <th>8</th>\n",
       "      <td>sys-2019-306447069</td>\n",
       "      <td>user-104863</td>\n",
       "      <td>499.4100</td>\n",
       "      <td>480.4200</td>\n",
       "      <td>渠道-0007</td>\n",
       "      <td>Wech atMP</td>\n",
       "      <td>2019-01-01 01:05:50</td>\n",
       "      <td>2019-01-01 01:06:17</td>\n",
       "      <td>否</td>\n",
       "    </tr>\n",
       "    <tr>\n",
       "      <th>9</th>\n",
       "      <td>sys-2019-290267674</td>\n",
       "      <td>user-206155</td>\n",
       "      <td>1103.0000</td>\n",
       "      <td>1050.9500</td>\n",
       "      <td>渠道-0330</td>\n",
       "      <td>APP</td>\n",
       "      <td>2019-01-01 01:16:12</td>\n",
       "      <td>2019-01-01 01:16:25</td>\n",
       "      <td>否</td>\n",
       "    </tr>\n",
       "    <tr>\n",
       "      <th>10</th>\n",
       "      <td>sys-2019-337079027</td>\n",
       "      <td>user-137939</td>\n",
       "      <td>465.4100</td>\n",
       "      <td>465.4100</td>\n",
       "      <td>渠道-9527</td>\n",
       "      <td>AL i MP</td>\n",
       "      <td>2019-01-01 01:31:00</td>\n",
       "      <td>2019-01-01 01:31:36</td>\n",
       "      <td>否</td>\n",
       "    </tr>\n",
       "  </tbody>\n",
       "</table>\n",
       "</div>"
      ],
      "text/plain": [
       "               orderID       userID  orderAmount   payment chanelID  \\\n",
       "id                                                                    \n",
       "6   sys-2019-279103297  user-146548     425.2000  425.2000  渠道-0765   \n",
       "7   sys-2019-316686066  user-104210    1764.3700 1707.0400  渠道-0396   \n",
       "8   sys-2019-306447069  user-104863     499.4100  480.4200  渠道-0007   \n",
       "9   sys-2019-290267674  user-206155    1103.0000 1050.9500  渠道-0330   \n",
       "10  sys-2019-337079027  user-137939     465.4100  465.4100  渠道-9527   \n",
       "\n",
       "   platfromType           orderTime             payTime chargeback  \n",
       "id                                                                  \n",
       "6     Wech atMP 2019-01-01 00:12:23 2019-01-01 00:13:37          否  \n",
       "7    We c hatMP 2019-01-01 00:23:06 2019-01-01 00:23:32          否  \n",
       "8     Wech atMP 2019-01-01 01:05:50 2019-01-01 01:06:17          否  \n",
       "9          APP  2019-01-01 01:16:12 2019-01-01 01:16:25          否  \n",
       "10      AL i MP 2019-01-01 01:31:00 2019-01-01 01:31:36          否  "
      ]
     },
     "execution_count": 70,
     "metadata": {},
     "output_type": "execute_result"
    }
   ],
   "source": [
    "order_df.head()"
   ]
  },
  {
   "cell_type": "code",
   "execution_count": 71,
   "metadata": {},
   "outputs": [
    {
     "data": {
      "text/html": [
       "<div>\n",
       "<style scoped>\n",
       "    .dataframe tbody tr th:only-of-type {\n",
       "        vertical-align: middle;\n",
       "    }\n",
       "\n",
       "    .dataframe tbody tr th {\n",
       "        vertical-align: top;\n",
       "    }\n",
       "\n",
       "    .dataframe thead th {\n",
       "        text-align: right;\n",
       "    }\n",
       "</style>\n",
       "<table border=\"1\" class=\"dataframe\">\n",
       "  <thead>\n",
       "    <tr style=\"text-align: right;\">\n",
       "      <th></th>\n",
       "      <th>orderID</th>\n",
       "      <th>userID</th>\n",
       "      <th>orderAmount</th>\n",
       "      <th>payment</th>\n",
       "      <th>chanelID</th>\n",
       "      <th>platfromType</th>\n",
       "      <th>orderTime</th>\n",
       "      <th>payTime</th>\n",
       "      <th>chargeback</th>\n",
       "    </tr>\n",
       "    <tr>\n",
       "      <th>id</th>\n",
       "      <th></th>\n",
       "      <th></th>\n",
       "      <th></th>\n",
       "      <th></th>\n",
       "      <th></th>\n",
       "      <th></th>\n",
       "      <th></th>\n",
       "      <th></th>\n",
       "      <th></th>\n",
       "    </tr>\n",
       "  </thead>\n",
       "  <tbody>\n",
       "    <tr>\n",
       "      <th>104297</th>\n",
       "      <td>sys-2019-344079195</td>\n",
       "      <td>user-182248</td>\n",
       "      <td>831.2900</td>\n",
       "      <td>766.0700</td>\n",
       "      <td>渠道-0896</td>\n",
       "      <td>We c hatMP</td>\n",
       "      <td>2019-12-31 23:32:55</td>\n",
       "      <td>2019-12-31 23:33:06</td>\n",
       "      <td>否</td>\n",
       "    </tr>\n",
       "    <tr>\n",
       "      <th>104298</th>\n",
       "      <td>sys-2019-296195955</td>\n",
       "      <td>user-143322</td>\n",
       "      <td>1565.6700</td>\n",
       "      <td>1414.8900</td>\n",
       "      <td>渠道-0007</td>\n",
       "      <td>APP</td>\n",
       "      <td>2019-12-31 23:33:05</td>\n",
       "      <td>2019-12-31 23:34:36</td>\n",
       "      <td>是</td>\n",
       "    </tr>\n",
       "    <tr>\n",
       "      <th>104299</th>\n",
       "      <td>sys-2019-382387725</td>\n",
       "      <td>user-220484</td>\n",
       "      <td>3326.8300</td>\n",
       "      <td>3273.5400</td>\n",
       "      <td>渠道-0530</td>\n",
       "      <td>WE B</td>\n",
       "      <td>2019-12-31 23:37:30</td>\n",
       "      <td>2019-12-31 23:37:44</td>\n",
       "      <td>否</td>\n",
       "    </tr>\n",
       "    <tr>\n",
       "      <th>104300</th>\n",
       "      <td>sys-2019-303891464</td>\n",
       "      <td>user-285133</td>\n",
       "      <td>241.7500</td>\n",
       "      <td>241.7500</td>\n",
       "      <td>渠道-0765</td>\n",
       "      <td>Wech atMP</td>\n",
       "      <td>2019-12-31 23:38:43</td>\n",
       "      <td>2019-12-31 23:39:01</td>\n",
       "      <td>是</td>\n",
       "    </tr>\n",
       "    <tr>\n",
       "      <th>104301</th>\n",
       "      <td>sys-2019-291405901</td>\n",
       "      <td>user-298747</td>\n",
       "      <td>442.8500</td>\n",
       "      <td>339.7800</td>\n",
       "      <td>渠道-0283</td>\n",
       "      <td>Wech atMP</td>\n",
       "      <td>2019-12-31 23:48:34</td>\n",
       "      <td>2019-12-31 23:49:04</td>\n",
       "      <td>否</td>\n",
       "    </tr>\n",
       "  </tbody>\n",
       "</table>\n",
       "</div>"
      ],
      "text/plain": [
       "                   orderID       userID  orderAmount   payment chanelID  \\\n",
       "id                                                                        \n",
       "104297  sys-2019-344079195  user-182248     831.2900  766.0700  渠道-0896   \n",
       "104298  sys-2019-296195955  user-143322    1565.6700 1414.8900  渠道-0007   \n",
       "104299  sys-2019-382387725  user-220484    3326.8300 3273.5400  渠道-0530   \n",
       "104300  sys-2019-303891464  user-285133     241.7500  241.7500  渠道-0765   \n",
       "104301  sys-2019-291405901  user-298747     442.8500  339.7800  渠道-0283   \n",
       "\n",
       "       platfromType           orderTime             payTime chargeback  \n",
       "id                                                                      \n",
       "104297   We c hatMP 2019-12-31 23:32:55 2019-12-31 23:33:06          否  \n",
       "104298         APP  2019-12-31 23:33:05 2019-12-31 23:34:36          是  \n",
       "104299        WE B  2019-12-31 23:37:30 2019-12-31 23:37:44          否  \n",
       "104300    Wech atMP 2019-12-31 23:38:43 2019-12-31 23:39:01          是  \n",
       "104301    Wech atMP 2019-12-31 23:48:34 2019-12-31 23:49:04          否  "
      ]
     },
     "execution_count": 71,
     "metadata": {},
     "output_type": "execute_result"
    }
   ],
   "source": [
    "order_df.tail()"
   ]
  },
  {
   "cell_type": "code",
   "execution_count": 73,
   "metadata": {},
   "outputs": [],
   "source": [
    "#1. drop payTime < orderTime\n",
    "order_df.drop(order_df[order_df.payTime < order_df.orderTime].index, inplace=True)"
   ]
  },
  {
   "cell_type": "code",
   "execution_count": 74,
   "metadata": {},
   "outputs": [
    {
     "data": {
      "text/html": [
       "<div>\n",
       "<style scoped>\n",
       "    .dataframe tbody tr th:only-of-type {\n",
       "        vertical-align: middle;\n",
       "    }\n",
       "\n",
       "    .dataframe tbody tr th {\n",
       "        vertical-align: top;\n",
       "    }\n",
       "\n",
       "    .dataframe thead th {\n",
       "        text-align: right;\n",
       "    }\n",
       "</style>\n",
       "<table border=\"1\" class=\"dataframe\">\n",
       "  <thead>\n",
       "    <tr style=\"text-align: right;\">\n",
       "      <th></th>\n",
       "      <th>orderID</th>\n",
       "      <th>userID</th>\n",
       "      <th>orderAmount</th>\n",
       "      <th>payment</th>\n",
       "      <th>chanelID</th>\n",
       "      <th>platfromType</th>\n",
       "      <th>orderTime</th>\n",
       "      <th>payTime</th>\n",
       "      <th>chargeback</th>\n",
       "    </tr>\n",
       "    <tr>\n",
       "      <th>id</th>\n",
       "      <th></th>\n",
       "      <th></th>\n",
       "      <th></th>\n",
       "      <th></th>\n",
       "      <th></th>\n",
       "      <th></th>\n",
       "      <th></th>\n",
       "      <th></th>\n",
       "      <th></th>\n",
       "    </tr>\n",
       "  </thead>\n",
       "  <tbody>\n",
       "  </tbody>\n",
       "</table>\n",
       "</div>"
      ],
      "text/plain": [
       "Empty DataFrame\n",
       "Columns: [orderID, userID, orderAmount, payment, chanelID, platfromType, orderTime, payTime, chargeback]\n",
       "Index: []"
      ]
     },
     "execution_count": 74,
     "metadata": {},
     "output_type": "execute_result"
    }
   ],
   "source": [
    "order_df[order_df.payTime < order_df.orderTime] "
   ]
  },
  {
   "cell_type": "code",
   "execution_count": 76,
   "metadata": {},
   "outputs": [],
   "source": [
    "#2. drop payTime - orderTime > 30min\n",
    "order_df.drop(order_df[(order_df.payTime - order_df.orderTime).dt.days > 0].index, inplace=True)\n",
    "order_df.drop(order_df[(order_df.payTime - order_df.orderTime).dt.seconds > 1800].index, inplace=True)"
   ]
  },
  {
   "cell_type": "code",
   "execution_count": 77,
   "metadata": {},
   "outputs": [
    {
     "data": {
      "text/html": [
       "<div>\n",
       "<style scoped>\n",
       "    .dataframe tbody tr th:only-of-type {\n",
       "        vertical-align: middle;\n",
       "    }\n",
       "\n",
       "    .dataframe tbody tr th {\n",
       "        vertical-align: top;\n",
       "    }\n",
       "\n",
       "    .dataframe thead th {\n",
       "        text-align: right;\n",
       "    }\n",
       "</style>\n",
       "<table border=\"1\" class=\"dataframe\">\n",
       "  <thead>\n",
       "    <tr style=\"text-align: right;\">\n",
       "      <th></th>\n",
       "      <th>orderID</th>\n",
       "      <th>userID</th>\n",
       "      <th>orderAmount</th>\n",
       "      <th>payment</th>\n",
       "      <th>chanelID</th>\n",
       "      <th>platfromType</th>\n",
       "      <th>orderTime</th>\n",
       "      <th>payTime</th>\n",
       "      <th>chargeback</th>\n",
       "    </tr>\n",
       "    <tr>\n",
       "      <th>id</th>\n",
       "      <th></th>\n",
       "      <th></th>\n",
       "      <th></th>\n",
       "      <th></th>\n",
       "      <th></th>\n",
       "      <th></th>\n",
       "      <th></th>\n",
       "      <th></th>\n",
       "      <th></th>\n",
       "    </tr>\n",
       "  </thead>\n",
       "  <tbody>\n",
       "  </tbody>\n",
       "</table>\n",
       "</div>"
      ],
      "text/plain": [
       "Empty DataFrame\n",
       "Columns: [orderID, userID, orderAmount, payment, chanelID, platfromType, orderTime, payTime, chargeback]\n",
       "Index: []"
      ]
     },
     "execution_count": 77,
     "metadata": {},
     "output_type": "execute_result"
    }
   ],
   "source": [
    "order_df[(order_df.payTime - order_df.orderTime).dt.days > 0]\n",
    "order_df[(order_df.payTime - order_df.orderTime).dt.seconds > 1800]"
   ]
  },
  {
   "cell_type": "code",
   "execution_count": 78,
   "metadata": {},
   "outputs": [],
   "source": [
    "# 3. drop payment < 0\n",
    "order_df.drop(order_df[(order_df['payment'] < 0)].index, inplace=True)"
   ]
  },
  {
   "cell_type": "code",
   "execution_count": 79,
   "metadata": {},
   "outputs": [
    {
     "data": {
      "text/html": [
       "<div>\n",
       "<style scoped>\n",
       "    .dataframe tbody tr th:only-of-type {\n",
       "        vertical-align: middle;\n",
       "    }\n",
       "\n",
       "    .dataframe tbody tr th {\n",
       "        vertical-align: top;\n",
       "    }\n",
       "\n",
       "    .dataframe thead th {\n",
       "        text-align: right;\n",
       "    }\n",
       "</style>\n",
       "<table border=\"1\" class=\"dataframe\">\n",
       "  <thead>\n",
       "    <tr style=\"text-align: right;\">\n",
       "      <th></th>\n",
       "      <th>orderID</th>\n",
       "      <th>userID</th>\n",
       "      <th>orderAmount</th>\n",
       "      <th>payment</th>\n",
       "      <th>chanelID</th>\n",
       "      <th>platfromType</th>\n",
       "      <th>orderTime</th>\n",
       "      <th>payTime</th>\n",
       "      <th>chargeback</th>\n",
       "    </tr>\n",
       "    <tr>\n",
       "      <th>id</th>\n",
       "      <th></th>\n",
       "      <th></th>\n",
       "      <th></th>\n",
       "      <th></th>\n",
       "      <th></th>\n",
       "      <th></th>\n",
       "      <th></th>\n",
       "      <th></th>\n",
       "      <th></th>\n",
       "    </tr>\n",
       "  </thead>\n",
       "  <tbody>\n",
       "  </tbody>\n",
       "</table>\n",
       "</div>"
      ],
      "text/plain": [
       "Empty DataFrame\n",
       "Columns: [orderID, userID, orderAmount, payment, chanelID, platfromType, orderTime, payTime, chargeback]\n",
       "Index: []"
      ]
     },
     "execution_count": 79,
     "metadata": {},
     "output_type": "execute_result"
    }
   ],
   "source": [
    "order_df[order_df.payment < 0]"
   ]
  },
  {
   "cell_type": "code",
   "execution_count": 80,
   "metadata": {},
   "outputs": [
    {
     "data": {
      "text/html": [
       "<div>\n",
       "<style scoped>\n",
       "    .dataframe tbody tr th:only-of-type {\n",
       "        vertical-align: middle;\n",
       "    }\n",
       "\n",
       "    .dataframe tbody tr th {\n",
       "        vertical-align: top;\n",
       "    }\n",
       "\n",
       "    .dataframe thead th {\n",
       "        text-align: right;\n",
       "    }\n",
       "</style>\n",
       "<table border=\"1\" class=\"dataframe\">\n",
       "  <thead>\n",
       "    <tr style=\"text-align: right;\">\n",
       "      <th></th>\n",
       "      <th>orderID</th>\n",
       "      <th>userID</th>\n",
       "      <th>orderAmount</th>\n",
       "      <th>payment</th>\n",
       "      <th>chanelID</th>\n",
       "      <th>platfromType</th>\n",
       "      <th>orderTime</th>\n",
       "      <th>payTime</th>\n",
       "      <th>chargeback</th>\n",
       "    </tr>\n",
       "    <tr>\n",
       "      <th>id</th>\n",
       "      <th></th>\n",
       "      <th></th>\n",
       "      <th></th>\n",
       "      <th></th>\n",
       "      <th></th>\n",
       "      <th></th>\n",
       "      <th></th>\n",
       "      <th></th>\n",
       "      <th></th>\n",
       "    </tr>\n",
       "  </thead>\n",
       "  <tbody>\n",
       "    <tr>\n",
       "      <th>11598</th>\n",
       "      <td>sys-2019-353765060</td>\n",
       "      <td>user-120690</td>\n",
       "      <td>534.1200</td>\n",
       "      <td>477.1000</td>\n",
       "      <td>NaN</td>\n",
       "      <td>WEB</td>\n",
       "      <td>2019-03-02 10:11:38</td>\n",
       "      <td>2019-03-02 10:11:55</td>\n",
       "      <td>否</td>\n",
       "    </tr>\n",
       "    <tr>\n",
       "      <th>11639</th>\n",
       "      <td>sys-2019-339868263</td>\n",
       "      <td>user-264491</td>\n",
       "      <td>206.3300</td>\n",
       "      <td>206.3300</td>\n",
       "      <td>NaN</td>\n",
       "      <td>We c hatMP</td>\n",
       "      <td>2019-03-02 14:02:58</td>\n",
       "      <td>2019-03-02 14:03:22</td>\n",
       "      <td>否</td>\n",
       "    </tr>\n",
       "    <tr>\n",
       "      <th>14234</th>\n",
       "      <td>sys-2019-313502796</td>\n",
       "      <td>user-180054</td>\n",
       "      <td>669.0900</td>\n",
       "      <td>669.0900</td>\n",
       "      <td>NaN</td>\n",
       "      <td>We c hatMP</td>\n",
       "      <td>2019-03-16 15:13:31</td>\n",
       "      <td>2019-03-16 15:13:55</td>\n",
       "      <td>否</td>\n",
       "    </tr>\n",
       "    <tr>\n",
       "      <th>35716</th>\n",
       "      <td>sys-2019-300339928</td>\n",
       "      <td>user-270141</td>\n",
       "      <td>328.8300</td>\n",
       "      <td>295.4700</td>\n",
       "      <td>NaN</td>\n",
       "      <td>Wech atMP</td>\n",
       "      <td>2019-06-06 11:03:46</td>\n",
       "      <td>2019-06-06 11:04:19</td>\n",
       "      <td>否</td>\n",
       "    </tr>\n",
       "    <tr>\n",
       "      <th>55444</th>\n",
       "      <td>sys-2019-286784634</td>\n",
       "      <td>user-183770</td>\n",
       "      <td>488.0700</td>\n",
       "      <td>476.8100</td>\n",
       "      <td>NaN</td>\n",
       "      <td>AP P</td>\n",
       "      <td>2019-08-04 18:53:34</td>\n",
       "      <td>2019-08-04 18:53:49</td>\n",
       "      <td>否</td>\n",
       "    </tr>\n",
       "    <tr>\n",
       "      <th>62378</th>\n",
       "      <td>sys-2019-288609013</td>\n",
       "      <td>user-213725</td>\n",
       "      <td>1316.6900</td>\n",
       "      <td>10496.5268</td>\n",
       "      <td>NaN</td>\n",
       "      <td>Wech atMP</td>\n",
       "      <td>2019-08-26 23:55:30</td>\n",
       "      <td>2019-08-26 23:56:57</td>\n",
       "      <td>否</td>\n",
       "    </tr>\n",
       "    <tr>\n",
       "      <th>77890</th>\n",
       "      <td>sys-2019-251942165</td>\n",
       "      <td>user-100835</td>\n",
       "      <td>3613.6300</td>\n",
       "      <td>3545.9800</td>\n",
       "      <td>NaN</td>\n",
       "      <td>Wech atMP</td>\n",
       "      <td>2019-10-15 22:59:12</td>\n",
       "      <td>2019-10-15 22:59:28</td>\n",
       "      <td>否</td>\n",
       "    </tr>\n",
       "    <tr>\n",
       "      <th>86627</th>\n",
       "      <td>sys-2019-322891956</td>\n",
       "      <td>user-116711</td>\n",
       "      <td>802.1800</td>\n",
       "      <td>748.8500</td>\n",
       "      <td>NaN</td>\n",
       "      <td>Wech atMP</td>\n",
       "      <td>2019-11-13 00:06:21</td>\n",
       "      <td>2019-11-13 00:06:39</td>\n",
       "      <td>否</td>\n",
       "    </tr>\n",
       "  </tbody>\n",
       "</table>\n",
       "</div>"
      ],
      "text/plain": [
       "                  orderID       userID  orderAmount    payment chanelID  \\\n",
       "id                                                                        \n",
       "11598  sys-2019-353765060  user-120690     534.1200   477.1000      NaN   \n",
       "11639  sys-2019-339868263  user-264491     206.3300   206.3300      NaN   \n",
       "14234  sys-2019-313502796  user-180054     669.0900   669.0900      NaN   \n",
       "35716  sys-2019-300339928  user-270141     328.8300   295.4700      NaN   \n",
       "55444  sys-2019-286784634  user-183770     488.0700   476.8100      NaN   \n",
       "62378  sys-2019-288609013  user-213725    1316.6900 10496.5268      NaN   \n",
       "77890  sys-2019-251942165  user-100835    3613.6300  3545.9800      NaN   \n",
       "86627  sys-2019-322891956  user-116711     802.1800   748.8500      NaN   \n",
       "\n",
       "      platfromType           orderTime             payTime chargeback  \n",
       "id                                                                     \n",
       "11598         WEB  2019-03-02 10:11:38 2019-03-02 10:11:55          否  \n",
       "11639   We c hatMP 2019-03-02 14:02:58 2019-03-02 14:03:22          否  \n",
       "14234   We c hatMP 2019-03-16 15:13:31 2019-03-16 15:13:55          否  \n",
       "35716    Wech atMP 2019-06-06 11:03:46 2019-06-06 11:04:19          否  \n",
       "55444        AP P  2019-08-04 18:53:34 2019-08-04 18:53:49          否  \n",
       "62378    Wech atMP 2019-08-26 23:55:30 2019-08-26 23:56:57          否  \n",
       "77890    Wech atMP 2019-10-15 22:59:12 2019-10-15 22:59:28          否  \n",
       "86627    Wech atMP 2019-11-13 00:06:21 2019-11-13 00:06:39          否  "
      ]
     },
     "execution_count": 80,
     "metadata": {},
     "output_type": "execute_result"
    }
   ],
   "source": [
    "#  check chanelID\n",
    "order_df[order_df.chanelID.isna()]"
   ]
  },
  {
   "cell_type": "code",
   "execution_count": 82,
   "metadata": {},
   "outputs": [],
   "source": [
    "order_df.rename(columns={'chanelID': 'channelID'}, inplace=True)\n",
    "mode_channelID = order_df.channelID.mode()[0]\n",
    "order_df.channelID.fillna(mode_channelID, inplace=True)"
   ]
  },
  {
   "cell_type": "code",
   "execution_count": 83,
   "metadata": {},
   "outputs": [
    {
     "name": "stdout",
     "output_type": "stream",
     "text": [
      "<class 'pandas.core.frame.DataFrame'>\n",
      "Index: 103321 entries, 6 to 104301\n",
      "Data columns (total 9 columns):\n",
      " #   Column        Non-Null Count   Dtype         \n",
      "---  ------        --------------   -----         \n",
      " 0   orderID       103321 non-null  object        \n",
      " 1   userID        103321 non-null  object        \n",
      " 2   orderAmount   103321 non-null  float64       \n",
      " 3   payment       103321 non-null  float64       \n",
      " 4   channelID     103321 non-null  object        \n",
      " 5   platfromType  103321 non-null  object        \n",
      " 6   orderTime     103321 non-null  datetime64[ns]\n",
      " 7   payTime       103321 non-null  datetime64[ns]\n",
      " 8   chargeback    103321 non-null  object        \n",
      "dtypes: datetime64[ns](2), float64(2), object(5)\n",
      "memory usage: 7.9+ MB\n"
     ]
    }
   ],
   "source": [
    "order_df[order_df.channelID.isna()]\n",
    "order_df.info()"
   ]
  },
  {
   "cell_type": "code",
   "execution_count": 84,
   "metadata": {},
   "outputs": [],
   "source": [
    "# 4. platformType\n",
    "order_df.rename(columns={'platfromType': 'platformType'}, inplace=True);\n",
    "\n",
    "order_df.platformType = order_df.platformType.str.replace(r'\\s', '', regex=True).str.lower()"
   ]
  },
  {
   "cell_type": "code",
   "execution_count": 85,
   "metadata": {},
   "outputs": [
    {
     "data": {
      "text/html": [
       "<div>\n",
       "<style scoped>\n",
       "    .dataframe tbody tr th:only-of-type {\n",
       "        vertical-align: middle;\n",
       "    }\n",
       "\n",
       "    .dataframe tbody tr th {\n",
       "        vertical-align: top;\n",
       "    }\n",
       "\n",
       "    .dataframe thead th {\n",
       "        text-align: right;\n",
       "    }\n",
       "</style>\n",
       "<table border=\"1\" class=\"dataframe\">\n",
       "  <thead>\n",
       "    <tr style=\"text-align: right;\">\n",
       "      <th></th>\n",
       "      <th>orderID</th>\n",
       "      <th>userID</th>\n",
       "      <th>orderAmount</th>\n",
       "      <th>payment</th>\n",
       "      <th>channelID</th>\n",
       "      <th>platformType</th>\n",
       "      <th>orderTime</th>\n",
       "      <th>payTime</th>\n",
       "      <th>chargeback</th>\n",
       "    </tr>\n",
       "    <tr>\n",
       "      <th>id</th>\n",
       "      <th></th>\n",
       "      <th></th>\n",
       "      <th></th>\n",
       "      <th></th>\n",
       "      <th></th>\n",
       "      <th></th>\n",
       "      <th></th>\n",
       "      <th></th>\n",
       "      <th></th>\n",
       "    </tr>\n",
       "  </thead>\n",
       "  <tbody>\n",
       "    <tr>\n",
       "      <th>6</th>\n",
       "      <td>sys-2019-279103297</td>\n",
       "      <td>user-146548</td>\n",
       "      <td>425.2000</td>\n",
       "      <td>425.2000</td>\n",
       "      <td>渠道-0765</td>\n",
       "      <td>wechatmp</td>\n",
       "      <td>2019-01-01 00:12:23</td>\n",
       "      <td>2019-01-01 00:13:37</td>\n",
       "      <td>否</td>\n",
       "    </tr>\n",
       "    <tr>\n",
       "      <th>7</th>\n",
       "      <td>sys-2019-316686066</td>\n",
       "      <td>user-104210</td>\n",
       "      <td>1764.3700</td>\n",
       "      <td>1707.0400</td>\n",
       "      <td>渠道-0396</td>\n",
       "      <td>wechatmp</td>\n",
       "      <td>2019-01-01 00:23:06</td>\n",
       "      <td>2019-01-01 00:23:32</td>\n",
       "      <td>否</td>\n",
       "    </tr>\n",
       "    <tr>\n",
       "      <th>8</th>\n",
       "      <td>sys-2019-306447069</td>\n",
       "      <td>user-104863</td>\n",
       "      <td>499.4100</td>\n",
       "      <td>480.4200</td>\n",
       "      <td>渠道-0007</td>\n",
       "      <td>wechatmp</td>\n",
       "      <td>2019-01-01 01:05:50</td>\n",
       "      <td>2019-01-01 01:06:17</td>\n",
       "      <td>否</td>\n",
       "    </tr>\n",
       "    <tr>\n",
       "      <th>9</th>\n",
       "      <td>sys-2019-290267674</td>\n",
       "      <td>user-206155</td>\n",
       "      <td>1103.0000</td>\n",
       "      <td>1050.9500</td>\n",
       "      <td>渠道-0330</td>\n",
       "      <td>app</td>\n",
       "      <td>2019-01-01 01:16:12</td>\n",
       "      <td>2019-01-01 01:16:25</td>\n",
       "      <td>否</td>\n",
       "    </tr>\n",
       "    <tr>\n",
       "      <th>10</th>\n",
       "      <td>sys-2019-337079027</td>\n",
       "      <td>user-137939</td>\n",
       "      <td>465.4100</td>\n",
       "      <td>465.4100</td>\n",
       "      <td>渠道-9527</td>\n",
       "      <td>alimp</td>\n",
       "      <td>2019-01-01 01:31:00</td>\n",
       "      <td>2019-01-01 01:31:36</td>\n",
       "      <td>否</td>\n",
       "    </tr>\n",
       "    <tr>\n",
       "      <th>11</th>\n",
       "      <td>sys-2019-417411381</td>\n",
       "      <td>user-181957</td>\n",
       "      <td>279.5300</td>\n",
       "      <td>279.5300</td>\n",
       "      <td>渠道-0007</td>\n",
       "      <td>app</td>\n",
       "      <td>2019-01-01 01:36:17</td>\n",
       "      <td>2019-01-01 01:36:56</td>\n",
       "      <td>否</td>\n",
       "    </tr>\n",
       "    <tr>\n",
       "      <th>12</th>\n",
       "      <td>sys-2019-254286596</td>\n",
       "      <td>user-174586</td>\n",
       "      <td>622.7000</td>\n",
       "      <td>622.7000</td>\n",
       "      <td>渠道-0283</td>\n",
       "      <td>wechatmp</td>\n",
       "      <td>2019-01-01 01:37:00</td>\n",
       "      <td>2019-01-01 01:37:14</td>\n",
       "      <td>否</td>\n",
       "    </tr>\n",
       "    <tr>\n",
       "      <th>13</th>\n",
       "      <td>sys-2019-303647260</td>\n",
       "      <td>user-178023</td>\n",
       "      <td>969.6100</td>\n",
       "      <td>913.5800</td>\n",
       "      <td>渠道-0765</td>\n",
       "      <td>app</td>\n",
       "      <td>2019-01-01 02:11:23</td>\n",
       "      <td>2019-01-01 02:12:56</td>\n",
       "      <td>否</td>\n",
       "    </tr>\n",
       "    <tr>\n",
       "      <th>14</th>\n",
       "      <td>sys-2019-347419495</td>\n",
       "      <td>user-209896</td>\n",
       "      <td>279.1800</td>\n",
       "      <td>225.1500</td>\n",
       "      <td>渠道-0396</td>\n",
       "      <td>app</td>\n",
       "      <td>2019-01-01 02:31:13</td>\n",
       "      <td>2019-01-01 02:32:40</td>\n",
       "      <td>否</td>\n",
       "    </tr>\n",
       "    <tr>\n",
       "      <th>15</th>\n",
       "      <td>sys-2019-384544993</td>\n",
       "      <td>user-148994</td>\n",
       "      <td>3424.7800</td>\n",
       "      <td>3424.7800</td>\n",
       "      <td>渠道-0530</td>\n",
       "      <td>wechatmp</td>\n",
       "      <td>2019-01-01 02:57:16</td>\n",
       "      <td>2019-01-01 02:57:42</td>\n",
       "      <td>否</td>\n",
       "    </tr>\n",
       "  </tbody>\n",
       "</table>\n",
       "</div>"
      ],
      "text/plain": [
       "               orderID       userID  orderAmount   payment channelID  \\\n",
       "id                                                                     \n",
       "6   sys-2019-279103297  user-146548     425.2000  425.2000   渠道-0765   \n",
       "7   sys-2019-316686066  user-104210    1764.3700 1707.0400   渠道-0396   \n",
       "8   sys-2019-306447069  user-104863     499.4100  480.4200   渠道-0007   \n",
       "9   sys-2019-290267674  user-206155    1103.0000 1050.9500   渠道-0330   \n",
       "10  sys-2019-337079027  user-137939     465.4100  465.4100   渠道-9527   \n",
       "11  sys-2019-417411381  user-181957     279.5300  279.5300   渠道-0007   \n",
       "12  sys-2019-254286596  user-174586     622.7000  622.7000   渠道-0283   \n",
       "13  sys-2019-303647260  user-178023     969.6100  913.5800   渠道-0765   \n",
       "14  sys-2019-347419495  user-209896     279.1800  225.1500   渠道-0396   \n",
       "15  sys-2019-384544993  user-148994    3424.7800 3424.7800   渠道-0530   \n",
       "\n",
       "   platformType           orderTime             payTime chargeback  \n",
       "id                                                                  \n",
       "6      wechatmp 2019-01-01 00:12:23 2019-01-01 00:13:37          否  \n",
       "7      wechatmp 2019-01-01 00:23:06 2019-01-01 00:23:32          否  \n",
       "8      wechatmp 2019-01-01 01:05:50 2019-01-01 01:06:17          否  \n",
       "9           app 2019-01-01 01:16:12 2019-01-01 01:16:25          否  \n",
       "10        alimp 2019-01-01 01:31:00 2019-01-01 01:31:36          否  \n",
       "11          app 2019-01-01 01:36:17 2019-01-01 01:36:56          否  \n",
       "12     wechatmp 2019-01-01 01:37:00 2019-01-01 01:37:14          否  \n",
       "13          app 2019-01-01 02:11:23 2019-01-01 02:12:56          否  \n",
       "14          app 2019-01-01 02:31:13 2019-01-01 02:32:40          否  \n",
       "15     wechatmp 2019-01-01 02:57:16 2019-01-01 02:57:42          否  "
      ]
     },
     "execution_count": 85,
     "metadata": {},
     "output_type": "execute_result"
    }
   ],
   "source": [
    "order_df.head(10)"
   ]
  },
  {
   "cell_type": "code",
   "execution_count": 86,
   "metadata": {},
   "outputs": [],
   "source": [
    "# 5. discount > 1\n",
    "order_df['discount'] = np.round(order_df.payment / order_df.orderAmount, 4)\n",
    "\n",
    "mean_discount = np.mean(order_df[order_df.discount <= 1].discount)\n",
    "\n",
    "order_df.discount = order_df.discount.apply(lambda x: x if x <= 1 else mean_discount)\n"
   ]
  },
  {
   "cell_type": "code",
   "execution_count": 87,
   "metadata": {},
   "outputs": [],
   "source": [
    "order_df.payment = order_df.orderAmount * order_df.discount"
   ]
  },
  {
   "cell_type": "code",
   "execution_count": 88,
   "metadata": {},
   "outputs": [
    {
     "data": {
      "text/plain": [
       "(103321, 10)"
      ]
     },
     "execution_count": 88,
     "metadata": {},
     "output_type": "execute_result"
    }
   ],
   "source": [
    "order_df.shape"
   ]
  },
  {
   "cell_type": "code",
   "execution_count": 89,
   "metadata": {},
   "outputs": [
    {
     "data": {
      "text/plain": [
       "{'gmv': 108495929.7,\n",
       " 'total_payment': 102600896.62845252,\n",
       " 'real_payment': 88915993.09978104,\n",
       " 'chargeback_rate': 0.13173507805770365,\n",
       " 'user_count': 78634,\n",
       " 'arppu': 1130.75759976322}"
      ]
     },
     "execution_count": 89,
     "metadata": {},
     "output_type": "execute_result"
    }
   ],
   "source": [
    "# data Analysis\n",
    "#6.GMV total_payment  real_payment chargeback_rate user_count arppu\n",
    "# 计算交易总金额（GMV）、总销售额、实际销售额、退货率、客单价(ARPPU)\n",
    "gmv = order_df.orderAmount.sum() # 交易总额 -> 订单总额\n",
    "total_payment = order_df.payment.sum() # 总销售额 -> 用户付的钱\n",
    "real_payment = order_df[order_df.chargeback=='否'].payment.sum() # 实际销售额 -> 除去退货的\n",
    "chargeback_rate = order_df[order_df.chargeback=='是'].payment.count() / order_df.shape[0] # 退货率 -> 退货数量除以总数量\n",
    "user_count = order_df.userID.nunique() # 不重复的用户数量，因为可能一个用户多次购买\n",
    "arppu = real_payment / user_count # 客单价 = 实际销售额 / 用户数\n",
    "\n",
    "l1 = [gmv, total_payment, real_payment, chargeback_rate, user_count, arppu]\n",
    "l2 = 'gmv, total_payment, real_payment, chargeback_rate, user_count, arppu'.split(', ')\n",
    "mp = dict(zip(l2, l1))\n",
    "mp"
   ]
  },
  {
   "cell_type": "code",
   "execution_count": 91,
   "metadata": {},
   "outputs": [
    {
     "data": {
      "text/plain": [
       "Index(['orderID', 'userID', 'orderAmount', 'payment', 'channelID',\n",
       "       'platformType', 'orderTime', 'payTime', 'chargeback', 'discount',\n",
       "       'month'],\n",
       "      dtype='object')"
      ]
     },
     "execution_count": 91,
     "metadata": {},
     "output_type": "execute_result"
    }
   ],
   "source": [
    "order_df['month'] = order_df.orderTime.dt.month\n",
    "order_df.columns"
   ]
  },
  {
   "cell_type": "code",
   "execution_count": 92,
   "metadata": {},
   "outputs": [],
   "source": [
    "# 先按月分组，然后找到orderAmount，统计求和，这样就得到了每月的gmv（交易总额）\n",
    "# 每个都除以10000然后以万元为单位\n",
    "gmv_by_month = order_df.groupby('month').orderAmount.sum() / 10000 # 每月交易额\n",
    "\n",
    "# 相似的求出其他\n",
    "pay_by_month = order_df.groupby('month').payment.sum() / 10000 # 每月销售额\n",
    "real_by_month = order_df[order_df.chargeback=='否'].groupby('month').payment.sum() / 10000# 每月实际销售额\n"
   ]
  },
  {
   "cell_type": "code",
   "execution_count": 94,
   "metadata": {},
   "outputs": [
    {
     "data": {
      "image/png": "[encoded data removed]",
      "text/plain": [
       "<Figure size 720x480 with 1 Axes>"
      ]
     },
     "metadata": {},
     "output_type": "display_data"
    }
   ],
   "source": [
    "#visualy\n",
    "plt.figure(figsize=(6, 4), dpi=120) # 加dpi是为了让图像显示更加清楚\n",
    "gmv_by_month.plot(kind='line', label='Monthly Transaction Volume')\n",
    "pay_by_month.plot(kind='line', label='Monthly Sales')\n",
    "real_by_month.plot(kind='line', label='Monthly Actual Sales', marker='*')\n",
    "plt.title('Monthly Transaction Volume & Sales Volumme')\n",
    "plt.legend() # 图例\n",
    "plt.xticks(list(range(1, 13))) # x轴刻度\n",
    "plt.xlabel('Month') # x轴标注\n",
    "plt.ylabel('Amount(Ten thounsand Yuan)') # y轴标注\n",
    "plt.grid(axis='y', linestyle='--', alpha=0.5) # 网格线\n",
    "for i in range(1, 13):\n",
    "    plt.text(i, real_by_month[i]-20, np.round(real_by_month[i], 2))\n",
    "plt.show()\n"
   ]
  },
  {
   "cell_type": "code",
   "execution_count": 95,
   "metadata": {},
   "outputs": [
    {
     "data": {
      "text/plain": [
       "channelID\n",
       "渠道-0007    8613932.6100\n",
       "渠道-0168    4371562.7400\n",
       "渠道-0191    3378255.1900\n",
       "渠道-0283    6559076.1400\n",
       "渠道-0318    3170493.9800\n",
       "渠道-0330    2182137.8400\n",
       "渠道-0396    8731850.3700\n",
       "渠道-0465    4357073.0400\n",
       "渠道-0530   12753905.8200\n",
       "渠道-0568    4508418.3000\n",
       "渠道-0765    9601795.5000\n",
       "渠道-0789    3282428.5400\n",
       "渠道-0896   17307338.4600\n",
       "渠道-0985    6564057.8600\n",
       "渠道-9527   13113603.3100\n",
       "Name: orderAmount, dtype: float64"
      ]
     },
     "execution_count": 95,
     "metadata": {},
     "output_type": "execute_result"
    }
   ],
   "source": [
    "gmv_by_channel = order_df.groupby('channelID').orderAmount.sum()\n",
    "gmv_by_channel"
   ]
  },
  {
   "cell_type": "code",
   "execution_count": 96,
   "metadata": {},
   "outputs": [
    {
     "data": {
      "image/png": "[encoded data removed]",
      "text/plain": [
       "<Figure size 720x720 with 1 Axes>"
      ]
     },
     "metadata": {},
     "output_type": "display_data"
    }
   ],
   "source": [
    "plt.figure(figsize=(6, 6), dpi= 120)\n",
    "gmv_by_channel.nlargest(10).plot(\n",
    "    kind='pie',\n",
    "    autopct='%.2f%%',\n",
    "    pctdistance=0.8, # 百分比的位置\n",
    "    wedgeprops= { #环状图\n",
    "        'width': 0.35,# 掏空的大小\n",
    "        'linewidth': 1,\n",
    "        'edgecolor': 'white'\n",
    "    }\n",
    ")\n",
    "plt.ylabel(None)\n",
    "plt.show()"
   ]
  },
  {
   "cell_type": "code",
   "execution_count": 97,
   "metadata": {},
   "outputs": [],
   "source": [
    "# 想要统计周几下单最高，需要先加一列星期的列\n",
    "# 然后根据星期分组，统计一周内的下单量\n",
    "order_df['weekday'] = order_df.orderTime.dt.weekday\n",
    "ser = order_df.groupby('weekday').orderID.count()"
   ]
  },
  {
   "cell_type": "code",
   "execution_count": 98,
   "metadata": {},
   "outputs": [
    {
     "data": {
      "image/png": "[encoded data removed]",
      "text/plain": [
       "<Figure size 720x480 with 1 Axes>"
      ]
     },
     "metadata": {},
     "output_type": "display_data"
    }
   ],
   "source": [
    "plt.figure(figsize=(6, 4), dpi=120)\n",
    "# ser.reindex([1, 2, 3, 4, 5, 6, 0])\n",
    "ser.plot(\n",
    "    kind='bar',\n",
    "    color=np.random.rand(7, 3),\n",
    ")\n",
    "plt.xticks(ser.index, labels=[f'周{i}' for i in '日一二三四五六'], rotation=0) # 找到位置，标记就行了\n",
    "\n",
    "plt.show()"
   ]
  },
  {
   "cell_type": "code",
   "execution_count": 99,
   "metadata": {},
   "outputs": [],
   "source": [
    "# 每天那个时段下单量最高\n",
    "# 想要统计哪个时段的下单量最高，先要分时段，这里需要做取整操作，将时段分的清楚\n",
    "# 处理完成之后取time，就只拿到了时间,然后以时间分组\n",
    "order_df['time'] = order_df.orderTime.dt.floor('30T').dt.time\n",
    "order_df.head(10)\n",
    "ser1 = order_df.groupby('time').orderID.count()"
   ]
  },
  {
   "cell_type": "code",
   "execution_count": 100,
   "metadata": {},
   "outputs": [
    {
     "data": {
      "image/png": "[encoded data removed]",
      "text/plain": [
       "<Figure size 1200x720 with 1 Axes>"
      ]
     },
     "metadata": {},
     "output_type": "display_data"
    }
   ],
   "source": [
    "plt.figure(figsize=(10, 6), dpi=120)\n",
    "ser1.plot(\n",
    "    kind='bar',\n",
    "    color=np.random.rand(48, 3)\n",
    ")\n",
    "plt.show()"
   ]
  },
  {
   "cell_type": "markdown",
   "metadata": {},
   "source": [
    "Calculate the repurchase rate of users"
   ]
  },
  {
   "cell_type": "code",
   "execution_count": 123,
   "metadata": {},
   "outputs": [],
   "source": [
    "temp = pd.pivot_table(data=order_df, index=['userID'], columns='month', values=['orderID'], aggfunc='count')"
   ]
  },
  {
   "cell_type": "code",
   "execution_count": 124,
   "metadata": {},
   "outputs": [
    {
     "name": "stdout",
     "output_type": "stream",
     "text": [
      "<class 'pandas.core.frame.DataFrame'>\n",
      "Index: 78634 entries, user-100000 to user-299995\n",
      "Data columns (total 12 columns):\n",
      " #   Column         Non-Null Count  Dtype  \n",
      "---  ------         --------------  -----  \n",
      " 0   (orderID, 1)   6241 non-null   float64\n",
      " 1   (orderID, 2)   4907 non-null   float64\n",
      " 2   (orderID, 3)   5796 non-null   float64\n",
      " 3   (orderID, 4)   6483 non-null   float64\n",
      " 4   (orderID, 5)   9360 non-null   float64\n",
      " 5   (orderID, 6)   10347 non-null  float64\n",
      " 6   (orderID, 7)   9356 non-null   float64\n",
      " 7   (orderID, 8)   9259 non-null   float64\n",
      " 8   (orderID, 9)   9141 non-null   float64\n",
      " 9   (orderID, 10)  8704 non-null   float64\n",
      " 10  (orderID, 11)  10680 non-null  float64\n",
      " 11  (orderID, 12)  10365 non-null  float64\n",
      "dtypes: float64(12)\n",
      "memory usage: 7.8+ MB\n"
     ]
    }
   ],
   "source": [
    "def handle_data(x):\n",
    "    return 1 if x > 1 else 0 if x == 1 else np.nan\n",
    "temp = temp.applymap(handle_data)\n",
    "temp.info()"
   ]
  },
  {
   "cell_type": "code",
   "execution_count": 125,
   "metadata": {},
   "outputs": [
    {
     "data": {
      "text/plain": [
       "         month\n",
       "orderID  1       1.8266\n",
       "         2       1.1412\n",
       "         3       1.7426\n",
       "         4       2.0207\n",
       "         5       3.0556\n",
       "         6       3.0540\n",
       "         7       2.5224\n",
       "         8       3.1645\n",
       "         9       2.4724\n",
       "         10      2.7918\n",
       "         11      2.9120\n",
       "         12      3.0873\n",
       "dtype: float64"
      ]
     },
     "execution_count": 125,
     "metadata": {},
     "output_type": "execute_result"
    }
   ],
   "source": [
    "# 复购率\n",
    "repurchase_rate = temp.sum() / temp.count() * 100\n",
    "repurchase_rate"
   ]
  },
  {
   "cell_type": "markdown",
   "metadata": {},
   "source": [
    "model:\n",
    "RFM model\n",
    "R Recency   - The most recent purchase ---> low\n",
    "F Frequency - The frequency of purchases ---> high\n",
    "M Monetary  - The amount of money spent ---> high\n"
   ]
  },
  {
   "cell_type": "code",
   "execution_count": 126,
   "metadata": {},
   "outputs": [],
   "source": [
    "# 删除退了货的用户\n",
    "temp_df = order_df.drop(order_df[order_df.chargeback == '是'].index)"
   ]
  },
  {
   "cell_type": "code",
   "execution_count": 127,
   "metadata": {},
   "outputs": [
    {
     "data": {
      "text/plain": [
       "((89710, 13), (103321, 13))"
      ]
     },
     "execution_count": 127,
     "metadata": {},
     "output_type": "execute_result"
    }
   ],
   "source": [
    "temp_df.shape, order_df.shape"
   ]
  },
  {
   "cell_type": "code",
   "execution_count": 134,
   "metadata": {},
   "outputs": [
    {
     "data": {
      "text/plain": [
       "((70592, 3),\n",
       "              F  orderAmount           orderTime\n",
       " userID                                         \n",
       " user-100000  1    1978.4700 2019-10-13 18:46:46\n",
       " user-100003  1     521.6000 2019-05-24 13:04:05\n",
       " user-100006  1     466.8900 2019-11-14 15:37:19\n",
       " user-100007  1    2178.2000 2019-01-14 18:45:35\n",
       " user-100008  1    4949.6500 2019-11-16 17:15:03)"
      ]
     },
     "execution_count": 134,
     "metadata": {},
     "output_type": "execute_result"
    }
   ],
   "source": [
    "# RFM model\n",
    "temp_df['F'] = 1\n",
    "res_df = temp_df.pivot_table(index='userID', values=['orderTime', 'F', 'orderAmount'],\n",
    "                    aggfunc={\n",
    "                        'orderTime': max,\n",
    "                        'F': sum,\n",
    "                        'orderAmount': sum\n",
    "                    }) # 使用字典代表每个列使用的函数\n",
    "res_df.shape,res_df.head()"
   ]
  },
  {
   "cell_type": "code",
   "execution_count": 135,
   "metadata": {},
   "outputs": [],
   "source": [
    "# 添加R列，统计最近一次购买的相距离本年度最后一天的天数\n",
    "cur_date = datetime(2019, 12, 31, 23, 59, 59)\n",
    "res_df['R'] =  (cur_date - res_df['orderTime']).dt.days"
   ]
  },
  {
   "cell_type": "code",
   "execution_count": 136,
   "metadata": {},
   "outputs": [],
   "source": [
    "res_df['M'] = res_df.orderAmount"
   ]
  },
  {
   "cell_type": "code",
   "execution_count": 137,
   "metadata": {},
   "outputs": [],
   "source": [
    "# 删除其他列\n",
    "res_df.drop(['orderAmount', 'orderTime'], axis=1, inplace=True)"
   ]
  },
  {
   "cell_type": "code",
   "execution_count": 138,
   "metadata": {},
   "outputs": [
    {
     "data": {
      "image/png": "[encoded data removed]",
      "text/plain": [
       "<Figure size 640x480 with 1 Axes>"
      ]
     },
     "metadata": {},
     "output_type": "display_data"
    }
   ],
   "source": [
    "import seaborn as sns\n",
    "# sns.distplot(res_df.orderAmount)\n",
    "sns.distplot(res_df.M)\n",
    "plt.show()"
   ]
  },
  {
   "cell_type": "code",
   "execution_count": 139,
   "metadata": {},
   "outputs": [
    {
     "data": {
      "image/png": "[encoded data removed]",
      "text/plain": [
       "<Figure size 500x500 with 1 Axes>"
      ]
     },
     "metadata": {},
     "output_type": "display_data"
    }
   ],
   "source": [
    "plt.close('all')\n",
    "sns.displot(res_df.F)\n",
    "plt.show()"
   ]
  },
  {
   "cell_type": "code",
   "execution_count": 140,
   "metadata": {},
   "outputs": [],
   "source": [
    "res_df = res_df.reindex(columns=['R', 'F', 'M'])"
   ]
  },
  {
   "cell_type": "code",
   "execution_count": 141,
   "metadata": {},
   "outputs": [],
   "source": [
    "# 与中位数作差然后将大于中位数的标记为1， 小于的标记为0\n",
    "temp_df = res_df.apply(lambda x: x-x.mean())\n",
    "#rmf\n",
    "rfm_model = temp_df.applymap(lambda x: '1' if x >= 0 else '0')"
   ]
  },
  {
   "cell_type": "code",
   "execution_count": 142,
   "metadata": {},
   "outputs": [],
   "source": [
    "tags_dict = {\n",
    "        '111': '重要价值用户',\n",
    "        '101': '重要发展用户',\n",
    "        '011': '重要保持用户',\n",
    "        '001': '重要挽留用户',\n",
    "        '110': '一般价值用户',\n",
    "        '100': '一般发展用户',\n",
    "        '010': '一般保持用户',\n",
    "        '000': '一般挽留用户',\n",
    "    }\n",
    "def make_tag(model):\n",
    "    key = model['R'] + model['F'] + model['M']\n",
    "    return tags_dict[key]\n",
    "rfm_model['label'] = rfm_model.apply(make_tag, axis=1)\n",
    "rfm_model.rename(columns={'label': 'TAG'}, inplace=True)"
   ]
  },
  {
   "cell_type": "code",
   "execution_count": 143,
   "metadata": {},
   "outputs": [
    {
     "data": {
      "text/plain": [
       "TAG\n",
       "一般价值用户     1373\n",
       "一般保持用户     3836\n",
       "一般发展用户    22311\n",
       "一般挽留用户    19813\n",
       "重要价值用户     2684\n",
       "重要保持用户     8062\n",
       "重要发展用户     6901\n",
       "重要挽留用户     5612\n",
       "Name: TAG, dtype: int64"
      ]
     },
     "execution_count": 143,
     "metadata": {},
     "output_type": "execute_result"
    }
   ],
   "source": [
    "ser2 = rfm_model.groupby('TAG').TAG.count()\n",
    "ser2"
   ]
  },
  {
   "cell_type": "code",
   "execution_count": 144,
   "metadata": {},
   "outputs": [
    {
     "data": {
      "image/png": "[encoded data removed]",
      "text/plain": [
       "<Figure size 720x720 with 1 Axes>"
      ]
     },
     "metadata": {},
     "output_type": "display_data"
    }
   ],
   "source": [
    "plt.close('all')\n",
    "plt.figure(figsize=(6, 6), dpi=120)\n",
    "ser2.plot(\n",
    "    kind='pie',\n",
    "    autopct='%.2f%%',\n",
    "    pctdistance=0.8,\n",
    "    wedgeprops={\n",
    "        'width': 0.35,\n",
    "        'edgecolor':'white',\n",
    "        'linewidth': 1\n",
    "    }\n",
    ")\n",
    "plt.ylabel('')\n",
    "plt.show()"
   ]
  }
 ],
 "metadata": {
  "kernelspec": {
   "display_name": "py39",
   "language": "python",
   "name": "python3"
  },
  "language_info": {
   "codemirror_mode": {
    "name": "ipython",
    "version": 3
   },
   "file_extension": ".py",
   "mimetype": "text/x-python",
   "name": "python",
   "nbconvert_exporter": "python",
   "pygments_lexer": "ipython3",
   "version": "3.9.19"
  }
 },
 "nbformat": 4,
 "nbformat_minor": 2
}
